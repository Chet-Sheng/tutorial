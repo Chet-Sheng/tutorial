{
 "cells": [
  {
   "cell_type": "markdown",
   "metadata": {},
   "source": [
    "# Introduction to TensorFlow: Constants, Variables, Placeholders\n",
    "\n",
    "Everything in Tensorflow is a Tensor (think of it, for now at least, as tensor = multi-dim array). There are 3 major ways of defining/encoding tensor in TF, depending on their functionality:\n",
    "\n",
    "* Constants\n",
    "* Variables (not that this can be randomly initialize and are by default trainable)\n",
    "* Placeholders (these are exactly that: placeholders that will accept different values)"
   ]
  },
  {
   "cell_type": "code",
   "execution_count": 1,
   "metadata": {
    "collapsed": true
   },
   "outputs": [],
   "source": [
    "# for compatibility \n",
    "from __future__ import absolute_import\n",
    "from __future__ import division\n",
    "from __future__ import print_function"
   ]
  },
  {
   "cell_type": "code",
   "execution_count": 2,
   "metadata": {
    "collapsed": true
   },
   "outputs": [],
   "source": [
    "# import tensorflow, as a normal library\n",
    "import tensorflow as tf\n",
    "import numpy as np"
   ]
  },
  {
   "cell_type": "markdown",
   "metadata": {},
   "source": [
    "### 1. Constants\n",
    "All variables/constants are tensors (multi-dim arrays). The initialization is similar to numpy."
   ]
  },
  {
   "cell_type": "code",
   "execution_count": 3,
   "metadata": {
    "collapsed": false
   },
   "outputs": [],
   "source": [
    "a = tf.constant(5)\n",
    "b = tf.constant(2)\n",
    "c = a*b"
   ]
  },
  {
   "cell_type": "code",
   "execution_count": 4,
   "metadata": {
    "collapsed": true
   },
   "outputs": [],
   "source": [
    "s = tf.constant(\"Hello TF\")"
   ]
  },
  {
   "cell_type": "markdown",
   "metadata": {},
   "source": [
    "Now, what we have done so far is create the nodes in the (global) computation graph that will hold these variables. You will notice that if you try to print them or use a, b these would behave as their assigned values."
   ]
  },
  {
   "cell_type": "code",
   "execution_count": 5,
   "metadata": {
    "collapsed": false
   },
   "outputs": [
    {
     "name": "stdout",
     "output_type": "stream",
     "text": [
      "Tensor(\"Const:0\", shape=(), dtype=int32)\n",
      "Tensor(\"mul:0\", shape=(), dtype=int32)\n"
     ]
    }
   ],
   "source": [
    "print(a)\n",
    "print(c)"
   ]
  },
  {
   "cell_type": "markdown",
   "metadata": {},
   "source": [
    "In order to access/view the value associate with tensor a, we will need to start a session and pass the graph we built so far (consisting of tensors a,b,c) for computation"
   ]
  },
  {
   "cell_type": "code",
   "execution_count": 6,
   "metadata": {
    "collapsed": false
   },
   "outputs": [
    {
     "name": "stdout",
     "output_type": "stream",
     "text": [
      "Hello TF\n",
      "Value of a is: 5\n",
      "value of b is: 2\n",
      "Their product is: 10\n"
     ]
    }
   ],
   "source": [
    "# launch a session with default graph\n",
    "with tf.Session() as sess:\n",
    "    print(sess.run(s))\n",
    "    \n",
    "    print(\"Value of a is: %d\" %sess.run(a))\n",
    "    \n",
    "    # alternative way of getting the value\n",
    "    print(\"value of b is: %d\" %b.eval())\n",
    "    \n",
    "    print(\"Their product is: %d\" %sess.run(c))"
   ]
  },
  {
   "cell_type": "markdown",
   "metadata": {},
   "source": [
    "### 2. Variables and random initializations\n",
    "The initialization is similar to numpy, but values will be generated only within a session and not when the tensor is add to the graph."
   ]
  },
  {
   "cell_type": "code",
   "execution_count": 7,
   "metadata": {
    "collapsed": false
   },
   "outputs": [],
   "source": [
    "a = tf.Variable(tf.zeros(shape=(2,3), dtype=tf.float32))\n",
    "b = tf.Variable(tf.ones(shape=(4,3), dtype=tf.float32))"
   ]
  },
  {
   "cell_type": "code",
   "execution_count": 8,
   "metadata": {
    "collapsed": true
   },
   "outputs": [],
   "source": [
    "# Let's open a session to look at these variables\n",
    "sess = tf.Session()"
   ]
  },
  {
   "cell_type": "code",
   "execution_count": 9,
   "metadata": {
    "collapsed": false
   },
   "outputs": [],
   "source": [
    "# This will fail. Can you guess why?\n",
    "# print sess.run(a)"
   ]
  },
  {
   "cell_type": "markdown",
   "metadata": {},
   "source": [
    "At creation, we only at the tensors to the graph, we do not actually populate the numerical value, that happens in the session only. Thus for variables we require an addition operation that initilize all variables included in our graph.\n",
    "\n",
    "** tf.initialize_all_variables() **"
   ]
  },
  {
   "cell_type": "code",
   "execution_count": 10,
   "metadata": {
    "collapsed": false
   },
   "outputs": [],
   "source": [
    "sess.run(tf.initialize_all_variables())"
   ]
  },
  {
   "cell_type": "code",
   "execution_count": 11,
   "metadata": {
    "collapsed": false
   },
   "outputs": [
    {
     "name": "stdout",
     "output_type": "stream",
     "text": [
      "[[ 0.  0.  0.]\n",
      " [ 0.  0.  0.]]\n",
      "[[ 1.  1.  1.]\n",
      " [ 1.  1.  1.]\n",
      " [ 1.  1.  1.]\n",
      " [ 1.  1.  1.]]\n"
     ]
    }
   ],
   "source": [
    "print(sess.run(a))\n",
    "print(sess.run(b))"
   ]
  },
  {
   "cell_type": "markdown",
   "metadata": {},
   "source": [
    "#### (Random) initializations of variables\n",
    "[Complete list in TF documentation](https://www.tensorflow.org/api_docs/python/constant_op/)"
   ]
  },
  {
   "cell_type": "code",
   "execution_count": 12,
   "metadata": {
    "collapsed": true
   },
   "outputs": [],
   "source": [
    "# using seed for random initializations\n",
    "rnd_seed = 123\n",
    "x = tf.random_normal(shape=(2,3), mean=0.0, stddev=0.1, seed=rnd_seed)\n",
    "y = tf.random_uniform((3,2), seed=rnd_seed)"
   ]
  },
  {
   "cell_type": "code",
   "execution_count": 13,
   "metadata": {
    "collapsed": false
   },
   "outputs": [
    {
     "name": "stdout",
     "output_type": "stream",
     "text": [
      "[[ 0.24435377  0.06532978 -0.2087632 ]\n",
      " [-0.06465399  0.05039895 -0.0662237 ]]\n",
      "[[ 0.04080963  0.20842123]\n",
      " [ 0.09180295  0.70220065]\n",
      " [ 0.7073133   0.39646494]]\n"
     ]
    }
   ],
   "source": [
    "print(sess.run(x))\n",
    "print(sess.run(y))"
   ]
  },
  {
   "cell_type": "code",
   "execution_count": 14,
   "metadata": {
    "collapsed": true
   },
   "outputs": [],
   "source": [
    "# close session\n",
    "sess.close()"
   ]
  },
  {
   "cell_type": "markdown",
   "metadata": {},
   "source": [
    "### 3. Placeholders\n",
    "These are used to defined tensors that will be populated by different value that come from outside the computation graph, like data/mini-batches."
   ]
  },
  {
   "cell_type": "code",
   "execution_count": 15,
   "metadata": {
    "collapsed": false
   },
   "outputs": [],
   "source": [
    "x = tf.placeholder(tf.float32, shape = [2,3])\n",
    "y = tf.placeholder(tf.float32, shape = [3,1])\n",
    "\n",
    "# lets define an operation:\n",
    "mul = tf.matmul(x,y)"
   ]
  },
  {
   "cell_type": "markdown",
   "metadata": {},
   "source": [
    "Generate some dummy data"
   ]
  },
  {
   "cell_type": "code",
   "execution_count": 16,
   "metadata": {
    "collapsed": false
   },
   "outputs": [
    {
     "name": "stdout",
     "output_type": "stream",
     "text": [
      "[[ 0.37471852]\n",
      " [ 2.0490927 ]]\n"
     ]
    }
   ],
   "source": [
    "dummy_x = np.random.randn(2,3)\n",
    "dummy_y = np.random.randn(3,1)\n",
    "result_to_compare = np.dot(dummy_x,dummy_y)\n",
    "print(result_to_compare)"
   ]
  },
  {
   "cell_type": "code",
   "execution_count": 17,
   "metadata": {
    "collapsed": false
   },
   "outputs": [
    {
     "name": "stdout",
     "output_type": "stream",
     "text": [
      "[[ 0.37471849]\n",
      " [ 2.04909277]]\n"
     ]
    }
   ],
   "source": [
    "# Let us launch a session:\n",
    "with tf.Session() as sess:\n",
    "    result =  sess.run(mul, feed_dict={x: dummy_x, y: dummy_y})\n",
    "    print(result)"
   ]
  }
 ],
 "metadata": {
  "kernelspec": {
   "display_name": "Python 2",
   "language": "python",
   "name": "python2"
  },
  "language_info": {
   "codemirror_mode": {
    "name": "ipython",
    "version": 2
   },
   "file_extension": ".py",
   "mimetype": "text/x-python",
   "name": "python",
   "nbconvert_exporter": "python",
   "pygments_lexer": "ipython2",
   "version": "2.7.12"
  }
 },
 "nbformat": 4,
 "nbformat_minor": 0
}
