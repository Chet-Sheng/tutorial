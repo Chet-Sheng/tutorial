{
 "cells": [
  {
   "cell_type": "markdown",
   "metadata": {},
   "source": [
    "# Introduction to TensorFlow: Model saving and restoring\n",
    "\n",
    "#### Note: \n",
    "The way serialization is carried out in TF is via *checkpoint files* (usually .ckpt). The way this is done has changed quite a lot from version to version. Most chnages were mainly adding to the previous functionality and increase scope. This was true till version 0.12(the latest) when they changed their way of doing this \n",
    "more drastically and unfortunately not compatible with previous of Tensorflow.\n",
    "\n",
    "Prior to r0.12, the saver would produce *two* files:\n",
    "```\n",
    "name_of_ckpt.ckpt\n",
    "name_of_ckpt.ckpt.meta\n",
    "```\n",
    "And a checkpoint file << checkpoint >> (one per folder of ckpt files). You would explicilty save and restore << name_of_ckpt.ckpt >>. See screenshot below (for the models saved in this tutorial)\n",
    "\n",
    "![Image](screenshot_ckpts.png)\n",
    "\n",
    "From r0.12, we would get, by default, *three* similar files:\n",
    "```\n",
    "name_of_ckpt.ckpt.data00000-of-00001\n",
    "name_of_ckpt.ckpt.meta\n",
    "name_of_ckpt.ckpt.index\n",
    "```    \n",
    "\n",
    "#### Revert to old version\n",
    "If you are using r0.12, use: \n",
    "```\n",
    "saver = tf.train.Saver(write_version = saver_pb2.SaverDef.V1)\n",
    "```\n",
    "to revert to the previous way of serializing.\n",
    "\n",
    "\n",
    "#### More info:\n",
    "For more information and (more advanced) functionality, check out saving and restoring documentation:\n",
    "[r0.12](https://www.tensorflow.org/api_docs/python/state_ops/saving_and_restoring_variables)\n",
    "[<r0.12](https://www.tensorflow.org/versions/r0.11/how_tos/variables/#saving_and_restoring)"
   ]
  },
  {
   "cell_type": "code",
   "execution_count": 1,
   "metadata": {
    "collapsed": true
   },
   "outputs": [],
   "source": [
    "# for compatibility \n",
    "from __future__ import absolute_import\n",
    "from __future__ import division\n",
    "from __future__ import print_function"
   ]
  },
  {
   "cell_type": "code",
   "execution_count": 2,
   "metadata": {
    "collapsed": true
   },
   "outputs": [],
   "source": [
    "# import tensorflow\n",
    "import tensorflow as tf"
   ]
  },
  {
   "cell_type": "code",
   "execution_count": 3,
   "metadata": {
    "collapsed": false
   },
   "outputs": [],
   "source": [
    "# let create some variables\n",
    "A = tf.Variable(tf.random_normal([ 3, 3]), name=\"A\")\n",
    "b = tf.Variable(tf.random_normal([ 3, 1]), name=\"b\")\n",
    "prod = tf.matmul(A,b)\n",
    "\n",
    "# update value of b\n",
    "norm = tf.sqrt(tf.reduce_sum(tf.square(prod), 0))\n",
    "update_op = b.assign(prod/norm)"
   ]
  },
  {
   "cell_type": "code",
   "execution_count": 4,
   "metadata": {
    "collapsed": true
   },
   "outputs": [],
   "source": [
    "# init operation\n",
    "init_op = tf.initialize_all_variables()"
   ]
  },
  {
   "cell_type": "markdown",
   "metadata": {},
   "source": [
    "## Saving a model\n",
    "Now, we create a Saver with *tf.train.Saver()* to manage all variables in the model (default)."
   ]
  },
  {
   "cell_type": "code",
   "execution_count": 5,
   "metadata": {
    "collapsed": true
   },
   "outputs": [],
   "source": [
    "saver = tf.train.Saver()"
   ]
  },
  {
   "cell_type": "markdown",
   "metadata": {},
   "source": [
    "We launch a session, where will update the value of vector b and will save the session current state at the end."
   ]
  },
  {
   "cell_type": "code",
   "execution_count": 6,
   "metadata": {
    "collapsed": true
   },
   "outputs": [],
   "source": [
    "name_of_checkpoint = \"model.ckpt\""
   ]
  },
  {
   "cell_type": "code",
   "execution_count": 7,
   "metadata": {
    "collapsed": false
   },
   "outputs": [
    {
     "name": "stdout",
     "output_type": "stream",
     "text": [
      "Initial values:\n",
      "[[ 0.83655119 -0.09394854  0.70128042]\n",
      " [-0.47292292 -0.02102241 -0.39281079]\n",
      " [ 0.15759951 -1.44999313  0.16121884]]\n",
      "[[ 0.17820637]\n",
      " [ 0.39067861]\n",
      " [ 1.60208094]]\n",
      "\n",
      " Starting updating\n",
      "[[ 0.84743553 -0.49493656 -0.19206959]]\n",
      "[[ 0.57700801 -0.29273942  0.76247329]]\n",
      "[[ 0.77455395 -0.41973001  0.47317335]]\n",
      "[[ 0.72337323 -0.38563386  0.57272828]]\n",
      "[[ 0.74005705 -0.3966085   0.5431549 ]]\n",
      "[[ 0.73506904 -0.39331514  0.55224699]]\n",
      "[[ 0.7365979  -0.39432344  0.54948384]]\n",
      "[[ 0.73613292 -0.39401671  0.55032647]]\n",
      "[[ 0.73627466 -0.3941102   0.55006987]]\n",
      "[[ 0.73623151 -0.39408165  0.55014801]]\n",
      "[[ 0.73624468 -0.39409041  0.55012417]]\n",
      "[[ 0.73624057 -0.39408773  0.5501315 ]]\n",
      "[[ 0.73624188 -0.39408854  0.55012923]]\n",
      "[[ 0.73624146 -0.3940883   0.55012989]]\n",
      "[[ 0.73624158 -0.39408839  0.55012971]]\n",
      "[[ 0.73624152 -0.39408836  0.55012977]]\n",
      "[[ 0.73624152 -0.39408836  0.55012977]]\n",
      "[[ 0.73624152 -0.39408836  0.55012977]]\n",
      "[[ 0.73624152 -0.39408836  0.55012977]]\n",
      "[[ 0.73624152 -0.39408836  0.55012977]]\n",
      "\n",
      " Saving model to: model.ckpt\n"
     ]
    }
   ],
   "source": [
    "with tf.Session() as sess:\n",
    "    sess.run(init_op)\n",
    "    \n",
    "    print(\"Initial values:\")\n",
    "    print(sess.run(A))\n",
    "    print(sess.run(b))\n",
    "    \n",
    "    print(\"\\n Starting updating\")\n",
    "    for _ in range(20):\n",
    "        sess.run(update_op)\n",
    "        print(sess.run(b).T)\n",
    "        \n",
    "    print(\"\\n Saving model to: \" + name_of_checkpoint)\n",
    "    saver.save(sess,name_of_checkpoint)"
   ]
  },
  {
   "cell_type": "markdown",
   "metadata": {},
   "source": [
    "## Restoring a model\n",
    "Can create a similar Saver, or even re-use the one above. I will create a new one."
   ]
  },
  {
   "cell_type": "code",
   "execution_count": 8,
   "metadata": {
    "collapsed": true
   },
   "outputs": [],
   "source": [
    "saver2restore = tf.train.Saver()"
   ]
  },
  {
   "cell_type": "markdown",
   "metadata": {},
   "source": [
    "Launch a session to restore and check the values. These should match the ones at the end of the session above"
   ]
  },
  {
   "cell_type": "code",
   "execution_count": 9,
   "metadata": {
    "collapsed": false
   },
   "outputs": [
    {
     "name": "stdout",
     "output_type": "stream",
     "text": [
      "Restored values:\n",
      "[[ 0.83655119 -0.09394854  0.70128042]\n",
      " [-0.47292292 -0.02102241 -0.39281079]\n",
      " [ 0.15759951 -1.44999313  0.16121884]]\n",
      "[[ 0.73624152]\n",
      " [-0.39408836]\n",
      " [ 0.55012977]]\n"
     ]
    }
   ],
   "source": [
    "with tf.Session() as sess:\n",
    "    sess.run(init_op)\n",
    "    saver2restore.restore(sess, name_of_checkpoint)\n",
    "    \n",
    "    print(\"Restored values:\")\n",
    "    print(sess.run(A))\n",
    "    print(sess.run(b))"
   ]
  },
  {
   "cell_type": "markdown",
   "metadata": {},
   "source": [
    "## Saving only certain variables/parameters rather then the whole session\n",
    "This is useful, when computational graph is quite complex/large but we are interested only in some of the values -- like results of some computations. In this case, we specify when creating the Saver which variable(s) we are interested in. \n",
    "\n",
    "For instance in the example above, we might only be interested in the value of the computed eigenvector b."
   ]
  },
  {
   "cell_type": "code",
   "execution_count": 10,
   "metadata": {
    "collapsed": true
   },
   "outputs": [],
   "source": [
    "saver = tf.train.Saver({\"eigenv\": b})\n",
    "name_of_checkpoint = 'b.ckpt'"
   ]
  },
  {
   "cell_type": "code",
   "execution_count": 11,
   "metadata": {
    "collapsed": false
   },
   "outputs": [
    {
     "name": "stdout",
     "output_type": "stream",
     "text": [
      "Initial values:\n",
      "[[ 0.20424592 -1.70958638  0.30089229]\n",
      " [ 0.29054552 -0.92459875 -0.09486626]\n",
      " [-0.74833429  0.79828358 -1.8937732 ]]\n",
      "[[ 0.21762475]\n",
      " [ 1.08739328]\n",
      " [ 0.06087504]]\n",
      "\n",
      " Starting updating\n",
      "[[-0.8492986  -0.44821203  0.27892274]]\n",
      "[[ 0.92037457  0.19203478 -0.3406367 ]]\n",
      "[[-0.82844472  0.41683042  0.37407458]]\n",
      "[[-0.73710787 -0.63393873  0.23408031]]\n",
      "[[ 0.88439906  0.30820918 -0.35049304]]\n",
      "[[-0.87657046  0.01016468  0.4811663 ]]\n",
      "[[-0.12921663 -0.77510887 -0.61847341]]\n",
      "[[ 0.74949956  0.49699917  0.43731239]]\n",
      "[[-0.48024252 -0.24075778 -0.84344691]]\n",
      "[[ 0.03368387  0.09198278  0.99519074]]\n",
      "[[ 0.08056752 -0.09169988 -0.99252206]]\n",
      "[[-0.07116823  0.11482391  0.99083328]]\n",
      "[[ 0.04994953 -0.12636039 -0.99072599]]\n",
      "[[-0.0409787   0.12846883  0.99086654]]\n",
      "[[ 0.03987652 -0.12773077 -0.99100691]]\n",
      "[[-0.04070875  0.12705277  0.99106026]]\n",
      "[[ 0.04127938 -0.12683606 -0.99106443]]\n",
      "[[-0.04142991  0.12683378  0.99105841]]\n",
      "[[ 0.04141637 -0.12686552 -0.99105489]]\n",
      "[[-0.04138702  0.12688127  0.99105412]]\n",
      "\n",
      " Saving model to: b.ckpt\n"
     ]
    }
   ],
   "source": [
    "with tf.Session() as sess:\n",
    "    sess.run(init_op)\n",
    "    \n",
    "    print(\"Initial values:\")\n",
    "    print(sess.run(A))\n",
    "    print(sess.run(b))\n",
    "    \n",
    "    print(\"\\n Starting updating\")\n",
    "    for _ in range(20):\n",
    "        sess.run(update_op)\n",
    "        print(sess.run(b).T)\n",
    "        \n",
    "    print(\"\\n Saving model to: \" + name_of_checkpoint)\n",
    "    saver.save(sess, name_of_checkpoint)"
   ]
  },
  {
   "cell_type": "markdown",
   "metadata": {},
   "source": [
    "## Restoring b\n",
    "Please note that b gets restored correctly, while A - since it was not saved - will be re-intialize to a random value."
   ]
  },
  {
   "cell_type": "code",
   "execution_count": 12,
   "metadata": {
    "collapsed": false
   },
   "outputs": [
    {
     "name": "stdout",
     "output_type": "stream",
     "text": [
      "Restored values:\n",
      "[[-0.33163938 -0.0972058   0.86966449]\n",
      " [ 0.90413129 -0.31787494  0.85678315]\n",
      " [ 0.63517827 -0.8100847   0.22602408]]\n",
      "[[-0.04138702]\n",
      " [ 0.12688127]\n",
      " [ 0.99105412]]\n"
     ]
    }
   ],
   "source": [
    "with tf.Session() as sess:\n",
    "    sess.run(init_op)\n",
    "    saver.restore(sess, name_of_checkpoint)\n",
    "    \n",
    "    print(\"Restored values:\")\n",
    "    print(sess.run(A))\n",
    "    print(sess.run(b))"
   ]
  }
 ],
 "metadata": {
  "kernelspec": {
   "display_name": "Python 2",
   "language": "python",
   "name": "python2"
  },
  "language_info": {
   "codemirror_mode": {
    "name": "ipython",
    "version": 2
   },
   "file_extension": ".py",
   "mimetype": "text/x-python",
   "name": "python",
   "nbconvert_exporter": "python",
   "pygments_lexer": "ipython2",
   "version": "2.7.6"
  }
 },
 "nbformat": 4,
 "nbformat_minor": 1
}
