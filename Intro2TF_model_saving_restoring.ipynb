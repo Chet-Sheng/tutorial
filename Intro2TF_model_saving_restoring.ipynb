{
 "cells": [
  {
   "cell_type": "markdown",
   "metadata": {},
   "source": [
    "# Introduction to TensorFlow: Model saving and restoring\n",
    "\n",
    "#### Note: \n",
    "The way serialization is carried out in TF is via *checkpoint files* (usually .ckpt). The way this is done has changed quite a lot from version to version. Most chnages were mainly adding to the previous functionality and increase scope. This was true till version 0.12(the latest) when they changed their way of doing this \n",
    "more drastically and unfortunately not compatible with previous of Tensorflow.\n",
    "\n",
    "Prior to r0.12, the saver would produce *two* files:\n",
    "```\n",
    "name_of_ckpt.ckpt\n",
    "name_of_ckpt.ckpt.meta\n",
    "```\n",
    "And a checkpoint file << checkpoint >> (one per folder of ckpt files). You would explicilty save and restore << name_of_ckpt.ckpt >>. See screenshot below (for the models saved in this tutorial)\n",
    "\n",
    "![Image](screenshot_ckpts.png)\n",
    "\n",
    "From r0.12, we would get, by default, *three* similar files:\n",
    "```\n",
    "name_of_ckpt.ckpt.data00000-of-00001\n",
    "name_of_ckpt.ckpt.meta\n",
    "name_of_ckpt.ckpt.index\n",
    "```    \n",
    "\n",
    "#### Revert to old version\n",
    "If you are using r0.12, use: \n",
    "```\n",
    "saver = tf.train.Saver(write_version = saver_pb2.SaverDef.V1)\n",
    "```\n",
    "to revert to the previous way of serializing.\n",
    "\n",
    "\n",
    "#### More info:\n",
    "For more information and (more advanced) functionality, check out saving and restoring documentation:\n",
    "[r0.12](https://www.tensorflow.org/api_docs/python/state_ops/saving_and_restoring_variables)\n",
    "[<r0.12](https://www.tensorflow.org/versions/r0.11/how_tos/variables/#saving_and_restoring)"
   ]
  },
  {
   "cell_type": "code",
   "execution_count": 1,
   "metadata": {
    "collapsed": true
   },
   "outputs": [],
   "source": [
    "# for compatibility \n",
    "from __future__ import absolute_import\n",
    "from __future__ import division\n",
    "from __future__ import print_function"
   ]
  },
  {
   "cell_type": "code",
   "execution_count": 2,
   "metadata": {
    "collapsed": true
   },
   "outputs": [],
   "source": [
    "# import tensorflow\n",
    "import tensorflow as tf"
   ]
  },
  {
   "cell_type": "code",
   "execution_count": 3,
   "metadata": {
    "collapsed": false
   },
   "outputs": [],
   "source": [
    "# let create some variables\n",
    "A = tf.Variable(tf.random_normal([ 3, 3]), name=\"A\")\n",
    "b = tf.Variable(tf.random_normal([ 3, 1]), name=\"b\")\n",
    "prod = tf.matmul(A,b)\n",
    "\n",
    "# update value of b\n",
    "norm = tf.sqrt(tf.reduce_sum(tf.square(prod), 0))\n",
    "update_op = b.assign(prod/norm)"
   ]
  },
  {
   "cell_type": "code",
   "execution_count": 4,
   "metadata": {
    "collapsed": true
   },
   "outputs": [],
   "source": [
    "# init operation\n",
    "init_op = tf.initialize_all_variables()"
   ]
  },
  {
   "cell_type": "markdown",
   "metadata": {},
   "source": [
    "## Saving a model\n",
    "Now, we create a Saver with *tf.train.Saver()* to manage all variables in the model (default)."
   ]
  },
  {
   "cell_type": "code",
   "execution_count": 5,
   "metadata": {
    "collapsed": true
   },
   "outputs": [],
   "source": [
    "saver = tf.train.Saver()"
   ]
  },
  {
   "cell_type": "markdown",
   "metadata": {},
   "source": [
    "We launch a session, where will update the value of vector b and will save the session current state at the end."
   ]
  },
  {
   "cell_type": "code",
   "execution_count": 6,
   "metadata": {
    "collapsed": true
   },
   "outputs": [],
   "source": [
    "name_of_checkpoint = \"model.ckpt\""
   ]
  },
  {
   "cell_type": "code",
   "execution_count": 7,
   "metadata": {
    "collapsed": false
   },
   "outputs": [
    {
     "name": "stdout",
     "output_type": "stream",
     "text": [
      "Initial values:\n",
      "[[ 0.89158756 -2.03744626  0.67002648]\n",
      " [-1.93548453 -1.43480539  0.69013792]\n",
      " [ 2.41397119  1.11396372  0.91476625]]\n",
      "[[-0.13989319]\n",
      " [-0.15827264]\n",
      " [ 0.63065863]]\n",
      "\n",
      " Starting updating\n",
      "[[ 0.55274266  0.83146513  0.0560467 ]]\n",
      "[[-0.34100622 -0.65175551  0.67744333]]\n",
      "[[ 0.54685915  0.7633028  -0.3439678 ]]\n",
      "[[-0.39416012 -0.72602606  0.5634926 ]]\n",
      "[[ 0.51252121  0.74680007 -0.42380613]]\n",
      "[[-0.42232612 -0.73781157  0.52656895]]\n",
      "[[ 0.49173525  0.74429601 -0.45190692]]\n",
      "[[-0.43859816 -0.74057829  0.50909287]]\n",
      "[[ 0.47944552  0.74362183 -0.46600285]]\n",
      "[[-0.4481349  -0.74158514  0.49922606]]\n",
      "\n",
      " Saving model to: model.ckpt\n"
     ]
    }
   ],
   "source": [
    "with tf.Session() as sess:\n",
    "    sess.run(init_op)\n",
    "    \n",
    "    print(\"Initial values:\")\n",
    "    print(sess.run(A))\n",
    "    print(sess.run(b))\n",
    "    \n",
    "    print(\"\\n Starting updating\")\n",
    "    for _ in range(10):\n",
    "        sess.run(update_op)\n",
    "        print(sess.run(b).T)\n",
    "        \n",
    "    print(\"\\n Saving model to: \" + name_of_checkpoint)\n",
    "    saver.save(sess,name_of_checkpoint)"
   ]
  },
  {
   "cell_type": "markdown",
   "metadata": {},
   "source": [
    "## Restoring a model\n",
    "Can create a similar Saver, or even re-use the one above. I will create a new one."
   ]
  },
  {
   "cell_type": "code",
   "execution_count": 8,
   "metadata": {
    "collapsed": true
   },
   "outputs": [],
   "source": [
    "saver2restore = tf.train.Saver()"
   ]
  },
  {
   "cell_type": "markdown",
   "metadata": {},
   "source": [
    "Launch a session to restore and check the values. These should match the ones at the end of the session above"
   ]
  },
  {
   "cell_type": "code",
   "execution_count": 9,
   "metadata": {
    "collapsed": false
   },
   "outputs": [
    {
     "name": "stdout",
     "output_type": "stream",
     "text": [
      "Restored values:\n",
      "[[ 0.89158756 -2.03744626  0.67002648]\n",
      " [-1.93548453 -1.43480539  0.69013792]\n",
      " [ 2.41397119  1.11396372  0.91476625]]\n",
      "[[-0.4481349 ]\n",
      " [-0.74158514]\n",
      " [ 0.49922606]]\n"
     ]
    }
   ],
   "source": [
    "with tf.Session() as sess:\n",
    "    sess.run(init_op)\n",
    "    saver2restore.restore(sess, name_of_checkpoint)\n",
    "    \n",
    "    print(\"Restored values:\")\n",
    "    print(sess.run(A))\n",
    "    print(sess.run(b))"
   ]
  },
  {
   "cell_type": "markdown",
   "metadata": {},
   "source": [
    "## Saving only certain variables/parameters rather then the whole session\n",
    "This is useful, when computational graph is quite complex/large but we are interested only in some of the values -- like results of some computations. In this case, we specify when creating the Saver which variable(s) we are interested in. \n",
    "\n",
    "For instance in the example above, we might only be interested in the value of the computed eigenvector b."
   ]
  },
  {
   "cell_type": "code",
   "execution_count": 10,
   "metadata": {
    "collapsed": true
   },
   "outputs": [],
   "source": [
    "saver = tf.train.Saver({\"eigenv\": b})\n",
    "name_of_checkpoint = 'b.ckpt'"
   ]
  },
  {
   "cell_type": "code",
   "execution_count": 11,
   "metadata": {
    "collapsed": false
   },
   "outputs": [
    {
     "name": "stdout",
     "output_type": "stream",
     "text": [
      "Initial values:\n",
      "[[ 0.49205759 -0.64811355 -0.74128866]\n",
      " [ 1.82169056  0.17344774 -0.69482893]\n",
      " [-0.11688004  0.55249608  0.6057356 ]]\n",
      "[[ -9.25583899e-01]\n",
      " [ -4.07729030e-01]\n",
      " [  2.67610740e-04]]\n",
      "\n",
      " Starting updating\n",
      "[[-0.10804801 -0.9919517  -0.06601086]]\n",
      "[[ 0.69546574 -0.35174373 -0.62658101]]\n",
      "[[ 0.50524825  0.80147791 -0.3199335 ]]\n",
      "[[-0.02598014  0.98886055  0.14655995]]\n",
      "[[-0.76659727  0.02247914  0.6417346 ]]\n",
      "[[-0.41481304 -0.87912714  0.23466079]]\n",
      "[[ 0.17002998 -0.95004958 -0.26171643]]\n",
      "[[ 0.75517285  0.27623892 -0.59447956]]\n",
      "[[ 0.32223347  0.93462145 -0.15049337]]\n",
      "[[-0.3370398   0.85728496  0.38918725]]\n",
      "\n",
      " Saving model to: b.ckpt\n"
     ]
    }
   ],
   "source": [
    "with tf.Session() as sess:\n",
    "    sess.run(init_op)\n",
    "    \n",
    "    print(\"Initial values:\")\n",
    "    print(sess.run(A))\n",
    "    print(sess.run(b))\n",
    "    \n",
    "    print(\"\\n Starting updating\")\n",
    "    for _ in range(10):\n",
    "        sess.run(update_op)\n",
    "        print(sess.run(b).T)\n",
    "        \n",
    "    print(\"\\n Saving model to: \" + name_of_checkpoint)\n",
    "    saver.save(sess, name_of_checkpoint)"
   ]
  },
  {
   "cell_type": "markdown",
   "metadata": {},
   "source": [
    "## Restoring b\n",
    "Please note that b gets restored correctly, while A - since it was not saved - will be re-intialize to a random value."
   ]
  },
  {
   "cell_type": "code",
   "execution_count": 12,
   "metadata": {
    "collapsed": false
   },
   "outputs": [
    {
     "name": "stdout",
     "output_type": "stream",
     "text": [
      "Restored values:\n",
      "[[-0.3682647  -0.15525812  0.53426868]\n",
      " [-1.81205511  0.57222915 -0.46779445]\n",
      " [-0.05808004 -1.37002575 -1.73209405]]\n",
      "[[-0.3370398 ]\n",
      " [ 0.85728496]\n",
      " [ 0.38918725]]\n"
     ]
    }
   ],
   "source": [
    "with tf.Session() as sess:\n",
    "    sess.run(init_op)\n",
    "    saver.restore(sess, name_of_checkpoint)\n",
    "    \n",
    "    print(\"Restored values:\")\n",
    "    print(sess.run(A))\n",
    "    print(sess.run(b))"
   ]
  }
 ],
 "metadata": {
  "kernelspec": {
   "display_name": "Python 2",
   "language": "python",
   "name": "python2"
  },
  "language_info": {
   "codemirror_mode": {
    "name": "ipython",
    "version": 2
   },
   "file_extension": ".py",
   "mimetype": "text/x-python",
   "name": "python",
   "nbconvert_exporter": "python",
   "pygments_lexer": "ipython2",
   "version": "2.7.6"
  }
 },
 "nbformat": 4,
 "nbformat_minor": 1
}
