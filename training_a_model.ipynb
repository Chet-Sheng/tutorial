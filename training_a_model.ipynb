{
 "cells": [
  {
   "cell_type": "markdown",
   "metadata": {
    "collapsed": false
   },
   "source": [
    "# Training a model in TF"
   ]
  },
  {
   "cell_type": "code",
   "execution_count": 1,
   "metadata": {
    "collapsed": true
   },
   "outputs": [],
   "source": [
    "import numpy as np\n",
    "import tensorflow as tf"
   ]
  },
  {
   "cell_type": "code",
   "execution_count": 2,
   "metadata": {
    "collapsed": false,
    "scrolled": true
   },
   "outputs": [
    {
     "name": "stdout",
     "output_type": "stream",
     "text": [
      "(150, 4)\n",
      "(150,)\n"
     ]
    }
   ],
   "source": [
    "from tensorflow.contrib.learn.python.learn import datasets\n",
    "dataset = datasets.load_iris()\n",
    "\n",
    "# split into input data (x) and GT labels (y)\n",
    "data_x = dataset.data\n",
    "data_y = dataset.target\n",
    "print data_x.shape\n",
    "print data_y.shape"
   ]
  },
  {
   "cell_type": "markdown",
   "metadata": {},
   "source": [
    "# Step 1: Building the computation graph"
   ]
  },
  {
   "cell_type": "code",
   "execution_count": 3,
   "metadata": {
    "collapsed": false
   },
   "outputs": [],
   "source": [
    "# placeholder for data x (784-dim)\n",
    "x    = tf.placeholder(\"float\", shape=[None, 4])\n",
    "y_GT = tf.placeholder(\"int64\", shape=[None, ])\n",
    "\n",
    "# model parameters\n",
    "n_hidden = 20\n",
    "W_h = tf.Variable(0.1*tf.random_normal([4, n_hidden]), name=\"W_h\")\n",
    "b_h = tf.Variable(tf.random_normal([n_hidden]), name=\"b_h\")\n",
    "hidden_layer = tf.matmul(x, W_h) + b_h\n",
    "\n",
    "# model parameters\n",
    "W = tf.Variable(0.1*tf.random_normal([n_hidden, 3]), name=\"W\")\n",
    "b = tf.Variable(tf.zeros([3]), name=\"b\")\n",
    "\n",
    "# putting the model together\n",
    "y = tf.nn.softmax(tf.matmul(hidden_layer, W) + b)"
   ]
  },
  {
   "cell_type": "code",
   "execution_count": 4,
   "metadata": {
    "collapsed": false
   },
   "outputs": [
    {
     "name": "stdout",
     "output_type": "stream",
     "text": [
      "Tensor(\"Softmax:0\", shape=(?, 3), dtype=float32)\n"
     ]
    }
   ],
   "source": [
    "print y"
   ]
  },
  {
   "cell_type": "markdown",
   "metadata": {},
   "source": [
    "# Step 2: Specify loss and training/optimization"
   ]
  },
  {
   "cell_type": "code",
   "execution_count": 5,
   "metadata": {
    "collapsed": false
   },
   "outputs": [],
   "source": [
    "# cross-entropy loss\n",
    "#cross_entropy = -tf.reduce_sum(tf.one_hot(y_GT, depth=3) * tf.log(y+1e-10))\n",
    "cross_entropy = tf.reduce_sum(tf.nn.softmax_cross_entropy_with_logits(labels=tf.one_hot(y_GT, depth=3), logits=(tf.matmul(hidden_layer, W) + b)))\n",
    "# define optimizer\n",
    "opt = tf.train.GradientDescentOptimizer(0.0001)\n",
    "train_op = opt.minimize(cross_entropy)"
   ]
  },
  {
   "cell_type": "code",
   "execution_count": 6,
   "metadata": {
    "collapsed": false
   },
   "outputs": [
    {
     "data": {
      "text/plain": [
       "<tf.Tensor 'Sum:0' shape=() dtype=float32>"
      ]
     },
     "execution_count": 6,
     "metadata": {},
     "output_type": "execute_result"
    }
   ],
   "source": [
    "cross_entropy"
   ]
  },
  {
   "cell_type": "markdown",
   "metadata": {},
   "source": [
    "# Step 3: Launch a session"
   ]
  },
  {
   "cell_type": "code",
   "execution_count": 7,
   "metadata": {
    "collapsed": true
   },
   "outputs": [],
   "source": [
    "# create operation to inialize all variables\n",
    "init_op = tf.initialize_all_variables()"
   ]
  },
  {
   "cell_type": "code",
   "execution_count": 8,
   "metadata": {
    "collapsed": false
   },
   "outputs": [
    {
     "name": "stdout",
     "output_type": "stream",
     "text": [
      "<tensorflow.python.ops.variables.Variable object at 0x7f64d43b6cd0>\n",
      "[[ 0.09495648 -0.11181545 -0.06443463]\n",
      " [ 0.05603005  0.03342399 -0.12521382]\n",
      " [ 0.0764797  -0.01175073 -0.12406522]\n",
      " [-0.00504424 -0.08993544  0.11662994]\n",
      " [-0.10030112  0.01447914 -0.06445155]\n",
      " [-0.02810389 -0.03619912  0.01265281]\n",
      " [-0.10191865 -0.05726812  0.05041992]\n",
      " [-0.19695517  0.28932351 -0.03475902]\n",
      " [-0.17699818  0.23104993 -0.06288   ]\n",
      " [ 0.06703613 -0.02751589  0.08142088]\n",
      " [-0.2342333  -0.08095408 -0.00722648]\n",
      " [-0.02683609  0.03968557 -0.14740972]\n",
      " [ 0.00886339 -0.00192394 -0.18078734]\n",
      " [ 0.04577922 -0.10625563  0.18171819]\n",
      " [ 0.04818371  0.07144029  0.14268406]\n",
      " [-0.02679454  0.15762183 -0.12937291]\n",
      " [ 0.20441477  0.15740044 -0.09919591]\n",
      " [ 0.22699249 -0.07965782  0.00641393]\n",
      " [-0.02305623  0.03198144 -0.10445283]\n",
      " [ 0.01721368  0.01479873 -0.22101191]]\n"
     ]
    }
   ],
   "source": [
    "# launch session\n",
    "with tf.Session() as sess:\n",
    "    sess.run(init_op)\n",
    "    \n",
    "    print W\n",
    "    print sess.run(W) #print W.eval()"
   ]
  },
  {
   "cell_type": "code",
   "execution_count": 9,
   "metadata": {
    "collapsed": false
   },
   "outputs": [
    {
     "name": "stdout",
     "output_type": "stream",
     "text": [
      "239.32\n"
     ]
    }
   ],
   "source": [
    "# one step of training\n",
    "with tf.Session() as sess:\n",
    "    sess.run(init_op)\n",
    "    sess.run(train_op, feed_dict={x: data_x, y_GT: data_y})\n",
    "    \n",
    "    # something should have happened\n",
    "    #print sess.run(W), sess.run(b)\n",
    "    #print sess.run(y, feed_dict={x:data_x, y_GT:data_y})\n",
    "    \n",
    "    xen = sess.run(cross_entropy, feed_dict={x: data_x, y_GT: data_y})\n",
    "    print xen\n",
    "    "
   ]
  },
  {
   "cell_type": "code",
   "execution_count": 10,
   "metadata": {
    "collapsed": true
   },
   "outputs": [],
   "source": [
    "# summary \n",
    "tf.scalar_summary(\"cross_entropy\", cross_entropy)\n",
    "summary_op = tf.merge_all_summaries()"
   ]
  },
  {
   "cell_type": "code",
   "execution_count": 11,
   "metadata": {
    "collapsed": false,
    "scrolled": false
   },
   "outputs": [
    {
     "name": "stdout",
     "output_type": "stream",
     "text": [
      "Iter 0 -- Cross-entropy: 283.711090\n",
      "0.333333\n",
      "Iter 1 -- Cross-entropy: 327.863190\n",
      "Iter 2 -- Cross-entropy: 145.388794\n",
      "Iter 3 -- Cross-entropy: 131.460129\n",
      "Iter 4 -- Cross-entropy: 123.338280\n",
      "Iter 5 -- Cross-entropy: 115.632996\n",
      "Iter 6 -- Cross-entropy: 108.497047\n",
      "Iter 7 -- Cross-entropy: 102.022621\n",
      "Iter 8 -- Cross-entropy: 96.261314\n",
      "Iter 9 -- Cross-entropy: 91.182167\n",
      "Iter 10 -- Cross-entropy: 86.723236\n",
      "0.826667\n",
      "Iter 11 -- Cross-entropy: 82.802017\n",
      "Iter 12 -- Cross-entropy: 79.337799\n",
      "Iter 13 -- Cross-entropy: 76.255409\n",
      "Iter 14 -- Cross-entropy: 73.490891\n",
      "Iter 15 -- Cross-entropy: 70.990128\n",
      "Iter 16 -- Cross-entropy: 68.709152\n",
      "Iter 17 -- Cross-entropy: 66.611923\n",
      "Iter 18 -- Cross-entropy: 64.669525\n",
      "Iter 19 -- Cross-entropy: 62.858398\n",
      "Iter 20 -- Cross-entropy: 61.159687\n",
      "0.966667\n",
      "Iter 21 -- Cross-entropy: 59.557945\n",
      "Iter 22 -- Cross-entropy: 58.040806\n",
      "Iter 23 -- Cross-entropy: 56.598026\n",
      "Iter 24 -- Cross-entropy: 55.221390\n",
      "Iter 25 -- Cross-entropy: 53.903976\n",
      "Iter 26 -- Cross-entropy: 52.640373\n",
      "Iter 27 -- Cross-entropy: 51.425838\n",
      "Iter 28 -- Cross-entropy: 50.257217\n",
      "Iter 29 -- Cross-entropy: 49.132206\n",
      "Iter 30 -- Cross-entropy: 48.053261\n",
      "0.973333\n",
      "Iter 31 -- Cross-entropy: 47.033440\n",
      "Iter 32 -- Cross-entropy: 46.134186\n",
      "Iter 33 -- Cross-entropy: 45.590359\n",
      "Iter 34 -- Cross-entropy: 46.423584\n",
      "Iter 35 -- Cross-entropy: 52.376583\n",
      "Iter 36 -- Cross-entropy: 77.612488\n",
      "Iter 37 -- Cross-entropy: 117.918365\n",
      "Iter 38 -- Cross-entropy: 152.305908\n",
      "Iter 39 -- Cross-entropy: 86.240753\n",
      "Iter 40 -- Cross-entropy: 81.300079\n",
      "0.673333\n",
      "Iter 41 -- Cross-entropy: 61.619152\n",
      "Iter 42 -- Cross-entropy: 55.694954\n",
      "Iter 43 -- Cross-entropy: 50.373592\n",
      "Iter 44 -- Cross-entropy: 48.378468\n",
      "Iter 45 -- Cross-entropy: 46.560120\n",
      "Iter 46 -- Cross-entropy: 45.920166\n",
      "Iter 47 -- Cross-entropy: 45.307491\n",
      "Iter 48 -- Cross-entropy: 45.966938\n",
      "Iter 49 -- Cross-entropy: 46.715157\n",
      "Iter 50 -- Cross-entropy: 50.139103\n",
      "0.793333\n",
      "Iter 51 -- Cross-entropy: 52.875607\n",
      "Iter 52 -- Cross-entropy: 60.955009\n",
      "Iter 53 -- Cross-entropy: 61.927689\n",
      "Iter 54 -- Cross-entropy: 70.203911\n",
      "Iter 55 -- Cross-entropy: 62.532181\n",
      "Iter 56 -- Cross-entropy: 65.417809\n",
      "Iter 57 -- Cross-entropy: 56.452721\n",
      "Iter 58 -- Cross-entropy: 56.859959\n",
      "Iter 59 -- Cross-entropy: 51.285610\n",
      "Iter 60 -- Cross-entropy: 51.863205\n",
      "0.76\n",
      "Iter 61 -- Cross-entropy: 48.752281\n",
      "Iter 62 -- Cross-entropy: 50.271633\n",
      "Iter 63 -- Cross-entropy: 48.478333\n",
      "Iter 64 -- Cross-entropy: 51.266472\n",
      "Iter 65 -- Cross-entropy: 49.932796\n",
      "Iter 66 -- Cross-entropy: 53.989304\n",
      "Iter 67 -- Cross-entropy: 52.032547\n",
      "Iter 68 -- Cross-entropy: 56.618465\n",
      "Iter 69 -- Cross-entropy: 53.101768\n",
      "Iter 70 -- Cross-entropy: 57.141052\n",
      "0.746667\n",
      "Iter 71 -- Cross-entropy: 52.410118\n",
      "Iter 72 -- Cross-entropy: 55.559647\n",
      "Iter 73 -- Cross-entropy: 50.778667\n",
      "Iter 74 -- Cross-entropy: 53.436077\n",
      "Iter 75 -- Cross-entropy: 49.277344\n",
      "Iter 76 -- Cross-entropy: 51.939274\n",
      "Iter 77 -- Cross-entropy: 48.420273\n",
      "Iter 78 -- Cross-entropy: 51.394680\n",
      "Iter 79 -- Cross-entropy: 48.231697\n",
      "Iter 80 -- Cross-entropy: 51.610897\n",
      "0.766667\n",
      "Iter 81 -- Cross-entropy: 48.445747\n",
      "Iter 82 -- Cross-entropy: 52.126167\n",
      "Iter 83 -- Cross-entropy: 48.671085\n",
      "Iter 84 -- Cross-entropy: 52.430725\n",
      "Iter 85 -- Cross-entropy: 48.599483\n",
      "Iter 86 -- Cross-entropy: 52.243488\n",
      "Iter 87 -- Cross-entropy: 48.169216\n",
      "Iter 88 -- Cross-entropy: 51.636147\n",
      "Iter 89 -- Cross-entropy: 47.534348\n",
      "Iter 90 -- Cross-entropy: 50.884499\n",
      "0.773333\n",
      "Iter 91 -- Cross-entropy: 46.902802\n",
      "Iter 92 -- Cross-entropy: 50.240627\n",
      "Iter 93 -- Cross-entropy: 46.409748\n",
      "Iter 94 -- Cross-entropy: 49.818367\n",
      "Iter 95 -- Cross-entropy: 46.083160\n",
      "Iter 96 -- Cross-entropy: 49.595089\n",
      "Iter 97 -- Cross-entropy: 45.868587\n",
      "Iter 98 -- Cross-entropy: 49.466106\n",
      "Iter 99 -- Cross-entropy: 45.676945\n"
     ]
    }
   ],
   "source": [
    "# multiple steps of training\n",
    "accuracy = tf.reduce_mean(tf.cast(tf.equal(y_GT, tf.argmax(y, 1)), tf.float32))\n",
    "    \n",
    "with tf.Session() as sess:\n",
    "    sess.run(init_op)\n",
    "    \n",
    "    summary_writer  = tf.train.SummaryWriter('tf_logs', sess.graph)\n",
    "    for iterIndex in range(100):\n",
    "        sess.run(train_op, feed_dict={x: data_x, y_GT: data_y})\n",
    "    \n",
    "        xen = sess.run(cross_entropy, feed_dict={x: data_x, y_GT: data_y})\n",
    "        print(\"Iter %d -- Cross-entropy: %f\"%(iterIndex,xen))\n",
    "        \n",
    "        summary = sess.run(summary_op, feed_dict={x: data_x, y_GT: data_y})\n",
    "        summary_writer.add_summary(summary, iterIndex)\n",
    "        \n",
    "        if iterIndex%10==0:\n",
    "            acc = sess.run(accuracy, feed_dict={x: data_x, y_GT: data_y})\n",
    "            print acc\n",
    "        \n"
   ]
  }
 ],
 "metadata": {
  "kernelspec": {
   "display_name": "Python 2",
   "language": "python",
   "name": "python2"
  },
  "language_info": {
   "codemirror_mode": {
    "name": "ipython",
    "version": 2
   },
   "file_extension": ".py",
   "mimetype": "text/x-python",
   "name": "python",
   "nbconvert_exporter": "python",
   "pygments_lexer": "ipython2",
   "version": "2.7.12"
  }
 },
 "nbformat": 4,
 "nbformat_minor": 0
}
